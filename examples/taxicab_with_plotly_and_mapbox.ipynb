{
 "cells": [
  {
   "cell_type": "code",
   "execution_count": 1,
   "metadata": {
    "collapsed": true
   },
   "outputs": [],
   "source": [
    "%matplotlib inline"
   ]
  },
  {
   "cell_type": "code",
   "execution_count": 2,
   "metadata": {
    "collapsed": true
   },
   "outputs": [],
   "source": [
    "import pandas as pd\n",
    "import numpy as np"
   ]
  },
  {
   "cell_type": "code",
   "execution_count": 3,
   "metadata": {
    "collapsed": true
   },
   "outputs": [],
   "source": [
    "import igraph as ig"
   ]
  },
  {
   "cell_type": "code",
   "execution_count": 4,
   "metadata": {},
   "outputs": [
    {
     "data": {
      "text/html": [
       "<script>requirejs.config({paths: { 'plotly': ['https://cdn.plot.ly/plotly-latest.min']},});if(!window.Plotly) {{require(['plotly'],function(plotly) {window.Plotly=plotly;});}}</script>"
      ],
      "text/vnd.plotly.v1+html": [
       "<script>requirejs.config({paths: { 'plotly': ['https://cdn.plot.ly/plotly-latest.min']},});if(!window.Plotly) {{require(['plotly'],function(plotly) {window.Plotly=plotly;});}}</script>"
      ]
     },
     "metadata": {},
     "output_type": "display_data"
    }
   ],
   "source": [
    "from plotly.offline import init_notebook_mode, iplot, plot\n",
    "import plotly as py\n",
    "from plotly.graph_objs import *\n",
    "init_notebook_mode(connected=True)"
   ]
  },
  {
   "cell_type": "markdown",
   "metadata": {},
   "source": [
    "# Read and parse data"
   ]
  },
  {
   "cell_type": "markdown",
   "metadata": {},
   "source": [
    "Take a look at what the file looks like:"
   ]
  },
  {
   "cell_type": "code",
   "execution_count": 5,
   "metadata": {},
   "outputs": [
    {
     "name": "stdout",
     "output_type": "stream",
     "text": [
      "1123\t16610\r",
      "\r\n",
      "(-74.284,40.644999999999925)\t(-74.26000000000002,40.63799999999993)\r",
      "\r\n",
      "(-74.25200000000002,40.74999999999989)\t(-73.88400000000023,40.77099999999989)\r",
      "\r\n",
      "(-74.23600000000003,40.70099999999991)\t(-74.00400000000016,40.7219999999999)\r",
      "\r\n",
      "(-74.23600000000003,40.79899999999988)\t(-73.89200000000022,40.75699999999989)\r",
      "\r\n",
      "(-74.21200000000005,40.74999999999989)\t(-73.94800000000019,40.67299999999992)\r",
      "\r\n",
      "(-74.18800000000006,40.679999999999914)\t(-73.74000000000031,40.95299999999983)\r",
      "\r\n",
      "(-74.18800000000006,40.707999999999906)\t(-73.78800000000028,40.644999999999925)\r",
      "\r\n",
      "(-74.18800000000006,41.043999999999805)\t(-74.00400000000016,40.742999999999896)\r",
      "\r\n",
      "(-74.18000000000006,40.69399999999991)\t(-74.03600000000014,40.7359999999999)\r",
      "\r\n"
     ]
    }
   ],
   "source": [
    "! head ./example_graphs/trip_data_2013_12_31_cleaned.csv.el.001"
   ]
  },
  {
   "cell_type": "code",
   "execution_count": 6,
   "metadata": {
    "collapsed": true
   },
   "outputs": [],
   "source": [
    "df = pd.read_csv('./example_graphs/trip_data_2013_12_31_cleaned.csv.el.001', sep='\\t', skiprows=1, names=['source', 'target'])\n",
    "df = df.applymap(lambda x: eval(x))"
   ]
  },
  {
   "cell_type": "code",
   "execution_count": 7,
   "metadata": {
    "collapsed": true
   },
   "outputs": [],
   "source": [
    "df['source_long'] = df['source'].apply(lambda x: x[0])\n",
    "df['source_lat'] = df['source'].apply(lambda x: x[1])\n",
    "\n",
    "df['target_long'] = df['target'].apply(lambda x: x[0])\n",
    "df['target_lat'] = df['target'].apply(lambda x: x[1])"
   ]
  },
  {
   "cell_type": "code",
   "execution_count": 8,
   "metadata": {},
   "outputs": [
    {
     "data": {
      "text/html": [
       "<div>\n",
       "<style>\n",
       "    .dataframe thead tr:only-child th {\n",
       "        text-align: right;\n",
       "    }\n",
       "\n",
       "    .dataframe thead th {\n",
       "        text-align: left;\n",
       "    }\n",
       "\n",
       "    .dataframe tbody tr th {\n",
       "        vertical-align: top;\n",
       "    }\n",
       "</style>\n",
       "<table border=\"1\" class=\"dataframe\">\n",
       "  <thead>\n",
       "    <tr style=\"text-align: right;\">\n",
       "      <th></th>\n",
       "      <th>source</th>\n",
       "      <th>target</th>\n",
       "      <th>source_long</th>\n",
       "      <th>source_lat</th>\n",
       "      <th>target_long</th>\n",
       "      <th>target_lat</th>\n",
       "    </tr>\n",
       "  </thead>\n",
       "  <tbody>\n",
       "    <tr>\n",
       "      <th>0</th>\n",
       "      <td>(-74.284, 40.645)</td>\n",
       "      <td>(-74.26, 40.638)</td>\n",
       "      <td>-74.284</td>\n",
       "      <td>40.645</td>\n",
       "      <td>-74.260</td>\n",
       "      <td>40.638</td>\n",
       "    </tr>\n",
       "    <tr>\n",
       "      <th>1</th>\n",
       "      <td>(-74.252, 40.75)</td>\n",
       "      <td>(-73.884, 40.771)</td>\n",
       "      <td>-74.252</td>\n",
       "      <td>40.750</td>\n",
       "      <td>-73.884</td>\n",
       "      <td>40.771</td>\n",
       "    </tr>\n",
       "    <tr>\n",
       "      <th>2</th>\n",
       "      <td>(-74.236, 40.701)</td>\n",
       "      <td>(-74.004, 40.722)</td>\n",
       "      <td>-74.236</td>\n",
       "      <td>40.701</td>\n",
       "      <td>-74.004</td>\n",
       "      <td>40.722</td>\n",
       "    </tr>\n",
       "    <tr>\n",
       "      <th>3</th>\n",
       "      <td>(-74.236, 40.799)</td>\n",
       "      <td>(-73.892, 40.757)</td>\n",
       "      <td>-74.236</td>\n",
       "      <td>40.799</td>\n",
       "      <td>-73.892</td>\n",
       "      <td>40.757</td>\n",
       "    </tr>\n",
       "    <tr>\n",
       "      <th>4</th>\n",
       "      <td>(-74.212, 40.75)</td>\n",
       "      <td>(-73.948, 40.673)</td>\n",
       "      <td>-74.212</td>\n",
       "      <td>40.750</td>\n",
       "      <td>-73.948</td>\n",
       "      <td>40.673</td>\n",
       "    </tr>\n",
       "  </tbody>\n",
       "</table>\n",
       "</div>"
      ],
      "text/plain": [
       "              source             target  source_long  source_lat  target_long  \\\n",
       "0  (-74.284, 40.645)   (-74.26, 40.638)      -74.284      40.645      -74.260   \n",
       "1   (-74.252, 40.75)  (-73.884, 40.771)      -74.252      40.750      -73.884   \n",
       "2  (-74.236, 40.701)  (-74.004, 40.722)      -74.236      40.701      -74.004   \n",
       "3  (-74.236, 40.799)  (-73.892, 40.757)      -74.236      40.799      -73.892   \n",
       "4   (-74.212, 40.75)  (-73.948, 40.673)      -74.212      40.750      -73.948   \n",
       "\n",
       "   target_lat  \n",
       "0      40.638  \n",
       "1      40.771  \n",
       "2      40.722  \n",
       "3      40.757  \n",
       "4      40.673  "
      ]
     },
     "execution_count": 8,
     "metadata": {},
     "output_type": "execute_result"
    }
   ],
   "source": [
    "df.head()"
   ]
  },
  {
   "cell_type": "code",
   "execution_count": 9,
   "metadata": {
    "collapsed": true
   },
   "outputs": [],
   "source": [
    "names = names={'source':'name', 'source_long':'long', 'source_lat':'lat', 'target':'name', 'target_long':'long', 'target_lat':'lat',}\n",
    "df_locations = pd.DataFrame(pd.concat([df[['source', 'source_long', 'source_lat']].copy().rename(columns=names), df[['target', 'target_long', 'target_lat']].copy().rename(columns=names)], ignore_index=True).drop_duplicates())"
   ]
  },
  {
   "cell_type": "code",
   "execution_count": 65,
   "metadata": {},
   "outputs": [
    {
     "data": {
      "text/plain": [
       "16610"
      ]
     },
     "execution_count": 65,
     "metadata": {},
     "output_type": "execute_result"
    }
   ],
   "source": [
    "df.shape[0] # number of edges"
   ]
  },
  {
   "cell_type": "code",
   "execution_count": 66,
   "metadata": {},
   "outputs": [
    {
     "data": {
      "text/plain": [
       "1123"
      ]
     },
     "execution_count": 66,
     "metadata": {},
     "output_type": "execute_result"
    }
   ],
   "source": [
    "df_locations.shape[0] # number vertices"
   ]
  },
  {
   "cell_type": "markdown",
   "metadata": {},
   "source": [
    "# Build graph"
   ]
  },
  {
   "cell_type": "code",
   "execution_count": 36,
   "metadata": {
    "collapsed": true
   },
   "outputs": [],
   "source": [
    "locations = Data([Scattermapbox(\n",
    "                                lat=df_locations['lat'],\n",
    "                                lon=df_locations['long'],\n",
    "                                mode='markers',\n",
    "                                marker=Marker(\n",
    "                                              size=9\n",
    "                                             ),\n",
    "                                text=df_locations['name'],\n",
    "                                )\n",
    "                 ])"
   ]
  },
  {
   "cell_type": "code",
   "execution_count": 67,
   "metadata": {
    "collapsed": true
   },
   "outputs": [],
   "source": [
    "paths = Data([Scattermapbox(\n",
    "                            lat= [ df['source_lat'][i], df['target_lat'][i] ],\n",
    "                            lon= [ df['source_long'][i], df['target_long'][i] ],\n",
    "                            mode='lines',\n",
    "                            )\n",
    "             for i in range(len(df[:10]))\n",
    "             ]\n",
    "            )"
   ]
  },
  {
   "cell_type": "code",
   "execution_count": 42,
   "metadata": {
    "collapsed": true
   },
   "outputs": [],
   "source": [
    "mapbox_access_token = 'pk.eyJ1IjoiY2JsZWtlciIsImEiOiJjamRrbDdhbG0wMmN0MndvMDVzbHJ5dXZ1In0.tP2zTKOSFRDCDSj84K2ceA'"
   ]
  },
  {
   "cell_type": "code",
   "execution_count": 59,
   "metadata": {},
   "outputs": [],
   "source": [
    "layout = Layout(\n",
    "                autosize=True,\n",
    "                hovermode='closest',\n",
    "                mapbox=dict(\n",
    "                            accesstoken=mapbox_access_token,\n",
    "                            bearing=0,\n",
    "                            center=dict(\n",
    "                                        lat=40.731536, \n",
    "                                        lon=-73.720754\n",
    "                                        ),\n",
    "                            pitch=0,\n",
    "                            zoom=10\n",
    "                            ),\n",
    "                showlegend=False\n",
    "                )"
   ]
  },
  {
   "cell_type": "code",
   "execution_count": 68,
   "metadata": {},
   "outputs": [
    {
     "data": {
      "text/plain": [
       "'file:///home/cbleker/code/GraphVisualization/examples/temp-plot.html'"
      ]
     },
     "execution_count": 68,
     "metadata": {},
     "output_type": "execute_result"
    }
   ],
   "source": [
    "fig = dict( data=locations+paths, layout=layout )\n",
    "plot( fig )"
   ]
  },
  {
   "cell_type": "code",
   "execution_count": null,
   "metadata": {
    "collapsed": true
   },
   "outputs": [],
   "source": []
  }
 ],
 "metadata": {
  "kernelspec": {
   "display_name": "Python 2",
   "language": "python",
   "name": "python2"
  },
  "language_info": {
   "codemirror_mode": {
    "name": "ipython",
    "version": 2
   },
   "file_extension": ".py",
   "mimetype": "text/x-python",
   "name": "python",
   "nbconvert_exporter": "python",
   "pygments_lexer": "ipython2",
   "version": "2.7.13"
  }
 },
 "nbformat": 4,
 "nbformat_minor": 2
}
